{
 "cells": [
  {
   "cell_type": "markdown",
   "metadata": {
    "collapsed": false
   },
   "source": [
    "<h1>\n",
    " Querying Ontologies and Creating Templates\n",
    "</h1>"
   ]
  },
  {
   "cell_type": "markdown",
   "metadata": {
    "collapsed": false
   },
   "source": [
    "<h2>\n",
    "    Prefixes \n",
    "</h2>\n",
    "    In order to start working with ontologies and linked data, it is better to introduce the ‘prefix’ command or clause in SPARQL first. SPARQL is a RDF query language designed for use in semantic environments.  Prefix stores the uniform resource identifiers (URIs) to different ontologies and graphs. It acts as a variable containing the address or a pointer in programming languages such as C++.<br> </br> These are the prefixes that are used in queries. They have to be used according to needs of each part of the code and do not have to be present in every code of this repository. However, they are mentioned separately below to save space and prevent the document from becoming very long:"
   ]
  },
  {
   "cell_type": "markdown",
   "metadata": {
    "collapsed": false
   },
   "source": [
    "<h3>\n",
    "    General prefixes\n",
    "</h3>"
   ]
  },
  {
   "cell_type": "markdown",
   "metadata": {
    "collapsed": false
   },
   "source": [
    "%%html\n",
    "PREFIX rdf:<http://www.w3.org/1999/02/22-rdf-syntax-ns#> </br>\n",
    "PREFIX rdfs:<http://www.w3.org/2000/01/rdf-schema# > </br>\n",
    "PREFIX owl: <http://www.w3.org/2002/07/owl#> </br>\n",
    "PREFIX xsd: <http://www.w3.org/2001/XMLSchema#> </br>\n",
    "PREFIX skos: <http://www.w3.org/2004/02/skos/core#>  </br>"
   ]
  },
  {
   "cell_type": "markdown",
   "metadata": {
    "collapsed": false
   },
   "source": [
    "<h3>\n",
    " Domain-related ontologies\n",
    "</h3>"
   ]
  },
  {
   "cell_type": "markdown",
   "metadata": {
    "collapsed": false
   },
   "source": [
    "%%html\n",
    "PREFIX NIF: <http://bioportal.bioontology.org/ontologies/NIF> </br>\n",
    "PREFIX fma: <http://sig.uw.edu/fma#> </br>\n",
    "PREFIX oboInOwl: <http://www.geneontology.org/formats/oboInOwl#> </br>\n",
    "PREFIX obo: <http://purl.obolibrary.org/obo/> </br>\n",
    "PREFIX oboRo: <http://obofoundry.org/ro/ro.owl#> </br>"
   ]
  },
  {
   "cell_type": "markdown",
   "metadata": {
    "collapsed": false
   },
   "source": [
    "It is worth mentioning that there are some alternative namespaces for NIF and FMA ontologies."
   ]
  },
  {
   "cell_type": "code",
   "execution_count": 0,
   "metadata": {
    "collapsed": false
   },
   "outputs": [
   ],
   "source": [
   ]
  }
 ],
 "metadata": {
  "kernelspec": {
   "display_name": "Python 3 (system-wide)",
   "language": "python",
   "metadata": {
    "cocalc": {
     "description": "Python 3 programming language",
     "priority": 100,
     "url": "https://www.python.org/"
    }
   },
   "name": "python3"
  },
  "language_info": {
   "codemirror_mode": {
    "name": "ipython",
    "version": 3
   },
   "file_extension": ".py",
   "mimetype": "text/x-python",
   "name": "python",
   "nbconvert_exporter": "python",
   "pygments_lexer": "ipython3",
   "version": "3.6.8"
  }
 },
 "nbformat": 4,
 "nbformat_minor": 0
}